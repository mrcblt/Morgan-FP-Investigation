{
 "cells": [
  {
   "cell_type": "markdown",
   "id": "e4dcc6ea-6296-4de6-a641-6160af93303f",
   "metadata": {},
   "source": [
    "# Interpreting Morgan Fingerprint Bits Over a Complete Dataset\n",
    "\n",
    "It is already very easy to display the encoded substructures of a Morgan Fingeprint bit for a specific molecule. However, if you train a machine learning model, for example a random forest, using Morgan fingerprints and look at the most important bits (feature importance), it is not sufficient to look at the substructure of this bit for a specific molecule. Due to collisions during fingerprint folding, it can happen that several substructures are encoded in one Morgan bit. For this, the analysis needs to be extended to all molecules.\n",
    "\n",
    "This notebook attempts to illustrate this scenario and give an overview of the most important substructures of any bit for an example random forest model.\n",
    "\n",
    "**Author:** Marcel Baltruschat ([@GitHub](https://github.com/mrcblt))<br>\n",
    "**Date:** 31.10.2022<br>\n",
    "**License:** MIT\n",
    "\n",
    "---"
   ]
  },
  {
   "cell_type": "markdown",
   "id": "5beb355e-a428-4ae8-a5da-eefd0b533988",
   "metadata": {},
   "source": [
    "## Preparation"
   ]
  },
  {
   "cell_type": "code",
   "execution_count": 1,
   "id": "ad222128-181c-435f-ba17-933cbcbccfdc",
   "metadata": {},
   "outputs": [],
   "source": [
    "# Import everything necessary\n",
    "from collections import defaultdict\n",
    "\n",
    "import matplotlib.pyplot as plt\n",
    "import numpy as np\n",
    "import pandas as pd\n",
    "import seaborn as sns\n",
    "from rdkit.Chem import AllChem as Chem\n",
    "from rdkit.Chem import PandasTools, Draw, DataStructs\n",
    "from rdkit.Chem.Draw import IPythonConsole\n",
    "\n",
    "from sklearn.ensemble import RandomForestClassifier\n",
    "from sklearn.metrics import cohen_kappa_score\n",
    "from sklearn.model_selection import train_test_split\n",
    "from sklearn.preprocessing import binarize\n",
    "\n",
    "from ipywidgets import interact\n",
    "from ipywidgets.widgets import BoundedIntText\n",
    "from IPython.display import SVG"
   ]
  },
  {
   "cell_type": "code",
   "execution_count": 2,
   "id": "92804b49-fe0e-4a06-9358-a793a7416fed",
   "metadata": {},
   "outputs": [],
   "source": [
    "# Adjust rendering settings\n",
    "IPythonConsole.molSize = 300,300\n",
    "IPythonConsole.ipython_useSVG = True\n",
    "\n",
    "PandasTools.RenderImagesInAllDataFrames()"
   ]
  },
  {
   "cell_type": "code",
   "execution_count": 3,
   "id": "b9d0ddf0-ec0d-4c6b-baae-e95ed89f75d5",
   "metadata": {},
   "outputs": [
    {
     "name": "stdout",
     "output_type": "stream",
     "text": [
      "7292\n"
     ]
    },
    {
     "data": {
      "text/html": [
       "<div>\n",
       "<style scoped>\n",
       "    .dataframe tbody tr th:only-of-type {\n",
       "        vertical-align: middle;\n",
       "    }\n",
       "\n",
       "    .dataframe tbody tr th {\n",
       "        vertical-align: top;\n",
       "    }\n",
       "\n",
       "    .dataframe thead th {\n",
       "        text-align: right;\n",
       "    }\n",
       "</style>\n",
       "<table border=\"1\" class=\"dataframe\">\n",
       "  <thead>\n",
       "    <tr style=\"text-align: right;\">\n",
       "      <th></th>\n",
       "      <th>SMILES</th>\n",
       "      <th>pIC50</th>\n",
       "      <th>ROMol</th>\n",
       "    </tr>\n",
       "    <tr>\n",
       "      <th>ChEMBL_ID</th>\n",
       "      <th></th>\n",
       "      <th></th>\n",
       "      <th></th>\n",
       "    </tr>\n",
       "  </thead>\n",
       "  <tbody>\n",
       "    <tr>\n",
       "      <th>CHEMBL1000</th>\n",
       "      <td>O=C(O)COCCN1CCN(C(c2ccccc2)c2ccc(Cl)cc2)CC1</td>\n",
       "      <td>4.515</td>\n",
       "      <td style=\"text-align: center;\"><div style=\"width: 200px; height: 200px\" data-content=\"rdkit/molecule\"><img src=\"data:image/png;base64,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\" alt=\"Mol\"/></div></td>\n",
       "    </tr>\n",
       "    <tr>\n",
       "      <th>CHEMBL100415</th>\n",
       "      <td>CCCCN(Cc1cncn1Cc1ccc(C#N)cc1)[C@H]1CCN(Cc2cccc...</td>\n",
       "      <td>6.720</td>\n",
       "      <td style=\"text-align: center;\"><div style=\"width: 200px; height: 200px\" data-content=\"rdkit/molecule\"><img src=\"data:image/png;base64,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\" alt=\"Mol\"/></div></td>\n",
       "    </tr>\n",
       "  </tbody>\n",
       "</table>\n",
       "</div>"
      ],
      "text/plain": [
       "                                                         SMILES  pIC50  \\\n",
       "ChEMBL_ID                                                                \n",
       "CHEMBL1000          O=C(O)COCCN1CCN(C(c2ccccc2)c2ccc(Cl)cc2)CC1  4.515   \n",
       "CHEMBL100415  CCCCN(Cc1cncn1Cc1ccc(C#N)cc1)[C@H]1CCN(Cc2cccc...  6.720   \n",
       "\n",
       "                                                      ROMol  \n",
       "ChEMBL_ID                                                    \n",
       "CHEMBL1000    <rdkit.Chem.rdchem.Mol object at 0x180f853f0>  \n",
       "CHEMBL100415  <rdkit.Chem.rdchem.Mol object at 0x180f83370>  "
      ]
     },
     "execution_count": 3,
     "metadata": {},
     "output_type": "execute_result"
    }
   ],
   "source": [
    "# Load an example hERG dataset [1]\n",
    "df = pd.read_csv('https://raw.githubusercontent.com/czodrowskilab/5minfame/main/datasets/hERG_exact_IC50_ChEMBL31.csv',\n",
    "                 sep=';', usecols=['Molecule ChEMBL ID', 'Smiles', 'pChEMBL Value'])\n",
    "df.columns = ['ChEMBL_ID', 'SMILES', 'pIC50']\n",
    "df.dropna(subset=['pIC50'], inplace=True)\n",
    "\n",
    "# Group by ChEMBL ID and average pIC50 values\n",
    "grp = df.groupby('ChEMBL_ID')\n",
    "df = grp.first()\n",
    "df.pIC50 = grp['pIC50'].mean()\n",
    "\n",
    "PandasTools.AddMoleculeColumnToFrame(df, smilesCol='SMILES')\n",
    "\n",
    "print(len(df))\n",
    "df.head(2)"
   ]
  },
  {
   "cell_type": "markdown",
   "id": "4b14f094-3602-471a-a11b-ad83c5169a53",
   "metadata": {},
   "source": [
    "---\n",
    "## Fingerprints and bit info"
   ]
  },
  {
   "cell_type": "code",
   "execution_count": 4,
   "id": "8ea4e043-ac92-4f74-9997-83772911388b",
   "metadata": {},
   "outputs": [
    {
     "data": {
      "text/plain": [
       "4096"
      ]
     },
     "execution_count": 4,
     "metadata": {},
     "output_type": "execute_result"
    }
   ],
   "source": [
    "# Fingeprint settings\n",
    "n_bits = 2**12\n",
    "use_features = False\n",
    "radius = 2\n",
    "\n",
    "n_bits"
   ]
  },
  {
   "cell_type": "code",
   "execution_count": 5,
   "id": "60c5eba8-8433-4046-b280-539e62066e8c",
   "metadata": {},
   "outputs": [],
   "source": [
    "# Calculate fingerprints and the corresponding bit info dictionaries\n",
    "bi_list = []\n",
    "fps = np.ndarray(shape=(len(df), n_bits), dtype=np.uint8)\n",
    "for i, mol in enumerate(df.ROMol):\n",
    "    bi = {}\n",
    "    fp = Chem.GetMorganFingerprintAsBitVect(mol, radius, bitInfo=bi, nBits=n_bits, useFeatures=use_features)\n",
    "    DataStructs.ConvertToNumpyArray(fp, fps[i])\n",
    "    bi_list.append(bi)"
   ]
  },
  {
   "cell_type": "code",
   "execution_count": 6,
   "id": "5ca757ca-173b-4135-b240-d70545a57698",
   "metadata": {},
   "outputs": [
    {
     "data": {
      "text/plain": [
       "{13: ((5, 1),),\n",
       " 15: ((11, 2),),\n",
       " 216: ((21, 1),),\n",
       " 389: ((15, 2),),\n",
       " 561: ((22, 1),),\n",
       " 695: ((4, 0),),\n",
       " 807: ((2, 0),),\n",
       " 1088: ((14, 1), (15, 1), (16, 1)),\n",
       " 1145: ((6, 1),),\n",
       " 1265: ((10, 1),),\n",
       " 1275: ((4, 2),),\n",
       " 1364: ((10, 2),),\n",
       " 1365: ((12, 1), (18, 1)),\n",
       " 1380: ((12, 0), (18, 0), (21, 0)),\n",
       " 1480: ((8, 1), (9, 1), (25, 1), (26, 1)),\n",
       " 1627: ((9, 2), (25, 2)),\n",
       " 1683: ((22, 0),),\n",
       " 1737: ((1, 1),),\n",
       " 1917: ((0, 1),),\n",
       " 2004: ((3, 1),),\n",
       " 2049: ((11, 0),),\n",
       " 2107: ((3, 2),),\n",
       " 2122: ((8, 2), (26, 2)),\n",
       " 2128: ((3, 0), (5, 0), (6, 0)),\n",
       " 2437: ((2, 1),),\n",
       " 2509: ((11, 1),),\n",
       " 2581: ((6, 2),),\n",
       " 2698: ((0, 0),),\n",
       " 2701: ((5, 2),),\n",
       " 2732: ((1, 2),),\n",
       " 2855: ((1, 0),),\n",
       " 2864: ((20, 2), (23, 2)),\n",
       " 2974: ((8, 0), (9, 0), (25, 0), (26, 0)),\n",
       " 2983: ((7, 0), (10, 0)),\n",
       " 3118: ((21, 2),),\n",
       " 3247: ((14, 2), (16, 2)),\n",
       " 3369: ((12, 2), (18, 2)),\n",
       " 3530: ((7, 2),),\n",
       " 3629: ((13, 2), (17, 2)),\n",
       " 3798: ((13, 1), (19, 1), (20, 1), (23, 1), (17, 1), (24, 1)),\n",
       " 3839: ((7, 1),),\n",
       " 3901: ((19, 2), (24, 2)),\n",
       " 3921: ((13, 0),\n",
       "  (14, 0),\n",
       "  (15, 0),\n",
       "  (16, 0),\n",
       "  (17, 0),\n",
       "  (19, 0),\n",
       "  (20, 0),\n",
       "  (23, 0),\n",
       "  (24, 0)),\n",
       " 4040: ((4, 1),)}"
      ]
     },
     "execution_count": 6,
     "metadata": {},
     "output_type": "execute_result"
    }
   ],
   "source": [
    "# Showing content of an example bit info dictionary\n",
    "bi_list[0]"
   ]
  },
  {
   "cell_type": "markdown",
   "id": "484bc4b7-80e4-4b3c-8be7-4e6ea41abd80",
   "metadata": {},
   "source": [
    "<u>Explanation:</u> **\"The dictionary provided is populated with one entry per bit set in the fingerprint, the keys are the bit ids, the values are lists of (atom index, radius) tuples.\"** [2]"
   ]
  },
  {
   "cell_type": "markdown",
   "id": "300c3b79-62c2-4703-860e-6aed411f48cc",
   "metadata": {},
   "source": [
    "---\n",
    "## Looking into a single bit of two molecules"
   ]
  },
  {
   "cell_type": "code",
   "execution_count": 7,
   "id": "691a1f51-538e-4c89-8043-e09106fccea4",
   "metadata": {},
   "outputs": [],
   "source": [
    "# Molecules of choice\n",
    "mol1_ix = 0  # CHEMBL1000\n",
    "mol2_ix = 1  # CHEMBL100415"
   ]
  },
  {
   "cell_type": "code",
   "execution_count": 8,
   "id": "182006dc-1359-4ef5-aa0e-bceef5906e11",
   "metadata": {},
   "outputs": [
    {
     "data": {
      "text/plain": [
       "{389, 1088, 1380, 1480, 2128, 2698, 2974, 2983, 3247, 3798, 3921}"
      ]
     },
     "execution_count": 8,
     "metadata": {},
     "output_type": "execute_result"
    }
   ],
   "source": [
    "# Bits that the two molecules have in common\n",
    "overlap = bi_list[mol1_ix].keys() & bi_list[mol2_ix].keys()\n",
    "overlap"
   ]
  },
  {
   "cell_type": "code",
   "execution_count": 9,
   "id": "596b1b93-caa8-4f18-beb2-0aa3569eae0e",
   "metadata": {},
   "outputs": [
    {
     "data": {
      "text/plain": [
       "1088"
      ]
     },
     "execution_count": 9,
     "metadata": {},
     "output_type": "execute_result"
    }
   ],
   "source": [
    "# Bit of interest\n",
    "bit_oi = overlap.pop()\n",
    "bit_oi"
   ]
  },
  {
   "cell_type": "code",
   "execution_count": 10,
   "id": "7b4d7770-3712-42c6-8342-fed90bb63095",
   "metadata": {},
   "outputs": [
    {
     "name": "stdout",
     "output_type": "stream",
     "text": [
      "((14, 1), (15, 1), (16, 1))\n",
      "=> 3 matches in first molecule of substructure(s) encoded in selected bit\n"
     ]
    }
   ],
   "source": [
    "# First molecule\n",
    "print(bi_list[mol1_ix][bit_oi])\n",
    "print(f'=> {len(bi_list[mol1_ix][bit_oi])} matches in first molecule of substructure(s) encoded in selected bit')"
   ]
  },
  {
   "cell_type": "code",
   "execution_count": 11,
   "id": "26dbf032-9df8-461f-baa4-ec49b66f77ae",
   "metadata": {},
   "outputs": [
    {
     "name": "stdout",
     "output_type": "stream",
     "text": [
      "((27, 1), (28, 1), (29, 1))\n",
      "=> 3 matches in second molecule of substructure(s) encoded in selected bit\n"
     ]
    }
   ],
   "source": [
    "# Second molecule\n",
    "print(bi_list[mol2_ix][bit_oi])\n",
    "print(f'=> {len(bi_list[mol2_ix][bit_oi])} matches in second molecule of substructure(s) encoded in selected bit')"
   ]
  },
  {
   "cell_type": "code",
   "execution_count": 12,
   "id": "9aef3f6f-db42-4c9c-b14d-6a9e17c94cb2",
   "metadata": {},
   "outputs": [
    {
     "data": {
      "image/svg+xml": [
       "<svg xmlns=\"http://www.w3.org/2000/svg\" xmlns:rdkit=\"http://www.rdkit.org/xml\" xmlns:xlink=\"http://www.w3.org/1999/xlink\" version=\"1.1\" baseProfile=\"full\" xml:space=\"preserve\" width=\"600px\" height=\"200px\" viewBox=\"0 0 600 200\">\n",
       "<!-- END OF HEADER -->\n",
       "<rect style=\"opacity:1.0;fill:#FFFFFF;stroke:none\" width=\"600.0\" height=\"200.0\" x=\"0.0\" y=\"0.0\"> </rect>\n",
       "<ellipse cx=\"22.8\" cy=\"95.5\" rx=\"15.3\" ry=\"15.3\" class=\"atom-1\" style=\"fill:#E5E533;fill-rule:evenodd;stroke:#E5E533;stroke-width:1.0px;stroke-linecap:butt;stroke-linejoin:miter;stroke-opacity:1\"/>\n",
       "<ellipse cx=\"71.4\" cy=\"154.4\" rx=\"15.3\" ry=\"15.3\" class=\"atom-2\" style=\"fill:#9999E5;fill-rule:evenodd;stroke:#9999E5;stroke-width:1.0px;stroke-linecap:butt;stroke-linejoin:miter;stroke-opacity:1\"/>\n",
       "<ellipse cx=\"146.7\" cy=\"141.8\" rx=\"15.3\" ry=\"15.3\" class=\"atom-3\" style=\"fill:#E5E533;fill-rule:evenodd;stroke:#E5E533;stroke-width:1.0px;stroke-linecap:butt;stroke-linejoin:miter;stroke-opacity:1\"/>\n",
       "<path class=\"bond-0 atom-0 atom-1\" d=\"M 49.0,25.4 L 22.8,95.5\" style=\"fill:none;fill-rule:evenodd;stroke:#E5E5E5;stroke-width:4.1px;stroke-linecap:butt;stroke-linejoin:miter;stroke-opacity:1\"/>\n",
       "<path class=\"bond-0 atom-0 atom-1\" d=\"M 59.7,29.4 L 35.8,93.3\" style=\"fill:none;fill-rule:evenodd;stroke:#E5E5E5;stroke-width:4.1px;stroke-linecap:butt;stroke-linejoin:miter;stroke-opacity:1;stroke-dasharray:6,0,6\"/>\n",
       "<path class=\"bond-1 atom-1 atom-2\" d=\"M 22.8,95.5 L 71.4,154.4\" style=\"fill:none;fill-rule:evenodd;stroke:#000000;stroke-width:2.0px;stroke-linecap:butt;stroke-linejoin:miter;stroke-opacity:1\"/>\n",
       "<path class=\"bond-1 atom-1 atom-2\" d=\"M 35.8,93.3 L 76.0,142.0\" style=\"fill:none;fill-rule:evenodd;stroke:#000000;stroke-width:2.0px;stroke-linecap:butt;stroke-linejoin:miter;stroke-opacity:1;stroke-dasharray:6,0,6\"/>\n",
       "<path class=\"bond-2 atom-2 atom-3\" d=\"M 71.4,154.4 L 146.7,141.8\" style=\"fill:none;fill-rule:evenodd;stroke:#000000;stroke-width:2.0px;stroke-linecap:butt;stroke-linejoin:miter;stroke-opacity:1\"/>\n",
       "<path class=\"bond-2 atom-2 atom-3\" d=\"M 76.0,142.0 L 138.3,131.6\" style=\"fill:none;fill-rule:evenodd;stroke:#000000;stroke-width:2.0px;stroke-linecap:butt;stroke-linejoin:miter;stroke-opacity:1;stroke-dasharray:6,0,6\"/>\n",
       "<path class=\"bond-3 atom-3 atom-4\" d=\"M 146.7,141.8 L 172.9,71.7\" style=\"fill:none;fill-rule:evenodd;stroke:#E5E5E5;stroke-width:4.1px;stroke-linecap:butt;stroke-linejoin:miter;stroke-opacity:1\"/>\n",
       "<path class=\"bond-3 atom-3 atom-4\" d=\"M 138.3,131.6 L 162.1,67.7\" style=\"fill:none;fill-rule:evenodd;stroke:#E5E5E5;stroke-width:4.1px;stroke-linecap:butt;stroke-linejoin:miter;stroke-opacity:1;stroke-dasharray:6,0,6\"/>\n",
       "<path d=\"M 23.5,93.8 L 22.8,95.5 L 24.0,97.0\" style=\"fill:none;stroke:#E5E5E5;stroke-width:4.1px;stroke-linecap:butt;stroke-linejoin:miter;stroke-opacity:1;\"/>\n",
       "<path d=\"M 68.9,151.5 L 71.4,154.4 L 75.1,153.8\" style=\"fill:none;stroke:#000000;stroke-width:2.0px;stroke-linecap:butt;stroke-linejoin:miter;stroke-opacity:1;\"/>\n",
       "<path d=\"M 144.8,142.1 L 146.7,141.8 L 147.3,140.1\" style=\"fill:none;stroke:#000000;stroke-width:2.0px;stroke-linecap:butt;stroke-linejoin:miter;stroke-opacity:1;\"/>\n",
       "<path class=\"atom-0\" d=\"M 50.8 23.6 L 54.0 20.4 L 49.8 19.5 L 50.4 17.4 L 54.3 19.3 L 53.7 15.1 L 56.0 15.0 L 55.4 19.3 L 59.3 17.4 L 60.0 19.5 L 55.7 20.3 L 58.8 23.6 L 56.9 24.9 L 54.8 20.9 L 52.7 24.9 L 50.8 23.6 \" fill=\"#191919\"/>\n",
       "<path class=\"atom-4\" d=\"M 163.9 65.9 L 167.1 62.7 L 162.9 61.8 L 163.5 59.6 L 167.4 61.6 L 166.9 57.3 L 169.2 57.3 L 168.5 61.6 L 172.5 59.7 L 173.1 61.8 L 168.9 62.6 L 171.9 65.9 L 170.1 67.2 L 167.9 63.2 L 165.8 67.2 L 163.9 65.9 \" fill=\"#191919\"/>\n",
       "<ellipse cx=\"258.4\" cy=\"159.9\" rx=\"15.3\" ry=\"15.3\" class=\"atom-1\" style=\"fill:#E5E533;fill-rule:evenodd;stroke:#E5E533;stroke-width:1.0px;stroke-linecap:butt;stroke-linejoin:miter;stroke-opacity:1\"/>\n",
       "<ellipse cx=\"333.7\" cy=\"147.3\" rx=\"15.3\" ry=\"15.3\" class=\"atom-2\" style=\"fill:#9999E5;fill-rule:evenodd;stroke:#9999E5;stroke-width:1.0px;stroke-linecap:butt;stroke-linejoin:miter;stroke-opacity:1\"/>\n",
       "<ellipse cx=\"360.4\" cy=\"75.8\" rx=\"15.3\" ry=\"15.3\" class=\"atom-3\" style=\"fill:#E5E533;fill-rule:evenodd;stroke:#E5E533;stroke-width:1.0px;stroke-linecap:butt;stroke-linejoin:miter;stroke-opacity:1\"/>\n",
       "<path class=\"bond-0 atom-0 atom-1\" d=\"M 211.0,102.4 L 258.4,159.9\" style=\"fill:none;fill-rule:evenodd;stroke:#E5E5E5;stroke-width:4.1px;stroke-linecap:butt;stroke-linejoin:miter;stroke-opacity:1\"/>\n",
       "<path class=\"bond-0 atom-0 atom-1\" d=\"M 219.8,95.2 L 263.0,147.5\" style=\"fill:none;fill-rule:evenodd;stroke:#E5E5E5;stroke-width:4.1px;stroke-linecap:butt;stroke-linejoin:miter;stroke-opacity:1;stroke-dasharray:6,0,6\"/>\n",
       "<path class=\"bond-1 atom-1 atom-2\" d=\"M 258.4,159.9 L 333.7,147.3\" style=\"fill:none;fill-rule:evenodd;stroke:#000000;stroke-width:2.0px;stroke-linecap:butt;stroke-linejoin:miter;stroke-opacity:1\"/>\n",
       "<path class=\"bond-1 atom-1 atom-2\" d=\"M 263.0,147.5 L 325.2,137.1\" style=\"fill:none;fill-rule:evenodd;stroke:#000000;stroke-width:2.0px;stroke-linecap:butt;stroke-linejoin:miter;stroke-opacity:1;stroke-dasharray:6,0,6\"/>\n",
       "<path class=\"bond-2 atom-2 atom-3\" d=\"M 333.7,147.3 L 360.4,75.8\" style=\"fill:none;fill-rule:evenodd;stroke:#000000;stroke-width:2.0px;stroke-linecap:butt;stroke-linejoin:miter;stroke-opacity:1\"/>\n",
       "<path class=\"bond-2 atom-2 atom-3\" d=\"M 325.2,137.1 L 347.3,78.0\" style=\"fill:none;fill-rule:evenodd;stroke:#000000;stroke-width:2.0px;stroke-linecap:butt;stroke-linejoin:miter;stroke-opacity:1;stroke-dasharray:6,0,6\"/>\n",
       "<path class=\"bond-3 atom-3 atom-4\" d=\"M 360.4,75.8 L 313.0,18.3\" style=\"fill:none;fill-rule:evenodd;stroke:#E5E5E5;stroke-width:4.1px;stroke-linecap:butt;stroke-linejoin:miter;stroke-opacity:1\"/>\n",
       "<path class=\"bond-3 atom-3 atom-4\" d=\"M 347.3,78.0 L 304.1,25.6\" style=\"fill:none;fill-rule:evenodd;stroke:#E5E5E5;stroke-width:4.1px;stroke-linecap:butt;stroke-linejoin:miter;stroke-opacity:1;stroke-dasharray:6,0,6\"/>\n",
       "<path d=\"M 257.2,158.5 L 258.4,159.9 L 260.2,159.6\" style=\"fill:none;stroke:#E5E5E5;stroke-width:4.1px;stroke-linecap:butt;stroke-linejoin:miter;stroke-opacity:1;\"/>\n",
       "<path d=\"M 329.9,147.9 L 333.7,147.3 L 335.0,143.7\" style=\"fill:none;stroke:#000000;stroke-width:2.0px;stroke-linecap:butt;stroke-linejoin:miter;stroke-opacity:1;\"/>\n",
       "<path d=\"M 359.7,77.6 L 360.4,75.8 L 359.2,74.4\" style=\"fill:none;stroke:#000000;stroke-width:2.0px;stroke-linecap:butt;stroke-linejoin:miter;stroke-opacity:1;\"/>\n",
       "<path class=\"atom-0\" d=\"M 210.1 95.0 L 213.3 91.7 L 209.1 90.9 L 209.7 88.7 L 213.6 90.7 L 213.1 86.4 L 215.4 86.4 L 214.7 90.6 L 218.6 88.8 L 219.3 90.9 L 215.0 91.7 L 218.1 94.9 L 216.2 96.3 L 214.1 92.2 L 212.0 96.3 L 210.1 95.0 \" fill=\"#191919\"/>\n",
       "<path class=\"atom-4\" d=\"M 303.3 18.1 L 306.5 14.9 L 302.3 14.0 L 302.9 11.9 L 306.8 13.8 L 306.2 9.6 L 308.5 9.5 L 307.9 13.8 L 311.8 12.0 L 312.5 14.0 L 308.2 14.8 L 311.3 18.1 L 309.4 19.4 L 307.3 15.4 L 305.2 19.4 L 303.3 18.1 \" fill=\"#191919\"/>\n",
       "<ellipse cx=\"522.0\" cy=\"149.9\" rx=\"15.3\" ry=\"15.3\" class=\"atom-1\" style=\"fill:#E5E533;fill-rule:evenodd;stroke:#E5E533;stroke-width:1.0px;stroke-linecap:butt;stroke-linejoin:miter;stroke-opacity:1\"/>\n",
       "<ellipse cx=\"548.7\" cy=\"78.4\" rx=\"15.3\" ry=\"15.3\" class=\"atom-2\" style=\"fill:#9999E5;fill-rule:evenodd;stroke:#9999E5;stroke-width:1.0px;stroke-linecap:butt;stroke-linejoin:miter;stroke-opacity:1\"/>\n",
       "<ellipse cx=\"500.2\" cy=\"19.5\" rx=\"15.3\" ry=\"15.3\" class=\"atom-3\" style=\"fill:#E5E533;fill-rule:evenodd;stroke:#E5E533;stroke-width:1.0px;stroke-linecap:butt;stroke-linejoin:miter;stroke-opacity:1\"/>\n",
       "<path class=\"bond-0 atom-0 atom-1\" d=\"M 454.4,161.3 L 522.0,149.9\" style=\"fill:none;fill-rule:evenodd;stroke:#E5E5E5;stroke-width:4.1px;stroke-linecap:butt;stroke-linejoin:miter;stroke-opacity:1\"/>\n",
       "<path class=\"bond-0 atom-0 atom-1\" d=\"M 452.5,150.0 L 513.6,139.7\" style=\"fill:none;fill-rule:evenodd;stroke:#E5E5E5;stroke-width:4.1px;stroke-linecap:butt;stroke-linejoin:miter;stroke-opacity:1;stroke-dasharray:6,0,6\"/>\n",
       "<path class=\"bond-1 atom-1 atom-2\" d=\"M 522.0,149.9 L 548.7,78.4\" style=\"fill:none;fill-rule:evenodd;stroke:#000000;stroke-width:2.0px;stroke-linecap:butt;stroke-linejoin:miter;stroke-opacity:1\"/>\n",
       "<path class=\"bond-1 atom-1 atom-2\" d=\"M 513.6,139.7 L 535.7,80.6\" style=\"fill:none;fill-rule:evenodd;stroke:#000000;stroke-width:2.0px;stroke-linecap:butt;stroke-linejoin:miter;stroke-opacity:1;stroke-dasharray:6,0,6\"/>\n",
       "<path class=\"bond-2 atom-2 atom-3\" d=\"M 548.7,78.4 L 500.2,19.5\" style=\"fill:none;fill-rule:evenodd;stroke:#000000;stroke-width:2.0px;stroke-linecap:butt;stroke-linejoin:miter;stroke-opacity:1\"/>\n",
       "<path class=\"bond-2 atom-2 atom-3\" d=\"M 535.7,80.6 L 495.5,31.9\" style=\"fill:none;fill-rule:evenodd;stroke:#000000;stroke-width:2.0px;stroke-linecap:butt;stroke-linejoin:miter;stroke-opacity:1;stroke-dasharray:6,0,6\"/>\n",
       "<path class=\"bond-3 atom-3 atom-4\" d=\"M 500.2,19.5 L 432.5,30.9\" style=\"fill:none;fill-rule:evenodd;stroke:#E5E5E5;stroke-width:4.1px;stroke-linecap:butt;stroke-linejoin:miter;stroke-opacity:1\"/>\n",
       "<path class=\"bond-3 atom-3 atom-4\" d=\"M 495.5,31.9 L 434.4,42.2\" style=\"fill:none;fill-rule:evenodd;stroke:#E5E5E5;stroke-width:4.1px;stroke-linecap:butt;stroke-linejoin:miter;stroke-opacity:1;stroke-dasharray:6,0,6\"/>\n",
       "<path d=\"M 520.3,150.2 L 522.0,149.9 L 522.7,148.1\" style=\"fill:none;stroke:#E5E5E5;stroke-width:4.1px;stroke-linecap:butt;stroke-linejoin:miter;stroke-opacity:1;\"/>\n",
       "<path d=\"M 547.4,82.0 L 548.7,78.4 L 546.3,75.5\" style=\"fill:none;stroke:#000000;stroke-width:2.0px;stroke-linecap:butt;stroke-linejoin:miter;stroke-opacity:1;\"/>\n",
       "<path d=\"M 501.4,21.0 L 500.2,19.5 L 498.5,19.8\" style=\"fill:none;stroke:#000000;stroke-width:2.0px;stroke-linecap:butt;stroke-linejoin:miter;stroke-opacity:1;\"/>\n",
       "<path class=\"atom-0\" d=\"M 441.7 154.5 L 444.9 151.3 L 440.7 150.4 L 441.3 148.2 L 445.2 150.2 L 444.6 145.9 L 446.9 145.9 L 446.3 150.2 L 450.2 148.3 L 450.9 150.4 L 446.6 151.2 L 449.7 154.5 L 447.8 155.8 L 445.7 151.8 L 443.6 155.8 L 441.7 154.5 \" fill=\"#191919\"/>\n",
       "<path class=\"atom-4\" d=\"M 421.8 35.4 L 424.9 32.1 L 420.7 31.3 L 421.4 29.1 L 425.2 31.1 L 424.7 26.8 L 427.0 26.8 L 426.3 31.0 L 430.3 29.2 L 430.9 31.3 L 426.7 32.1 L 429.7 35.3 L 427.9 36.7 L 425.8 32.7 L 423.6 36.7 L 421.8 35.4 \" fill=\"#191919\"/>\n",
       "</svg>"
      ],
      "text/plain": [
       "<IPython.core.display.SVG object>"
      ]
     },
     "execution_count": 12,
     "metadata": {},
     "output_type": "execute_result"
    }
   ],
   "source": [
    "# Environments of first molecule \n",
    "Draw.DrawMorganBits([(df.loc[df.index[mol1_ix], 'ROMol'], bit_oi, bi_list[mol1_ix], i) for i in range(len(bi_list[mol1_ix][bit_oi]))],\n",
    "                    subImgSize=(200, 200))"
   ]
  },
  {
   "cell_type": "code",
   "execution_count": 13,
   "id": "6f03c3c1-9b6c-4f99-9efc-b918b1d547df",
   "metadata": {},
   "outputs": [
    {
     "data": {
      "image/svg+xml": [
       "<svg xmlns=\"http://www.w3.org/2000/svg\" xmlns:rdkit=\"http://www.rdkit.org/xml\" xmlns:xlink=\"http://www.w3.org/1999/xlink\" version=\"1.1\" baseProfile=\"full\" xml:space=\"preserve\" width=\"600px\" height=\"200px\" viewBox=\"0 0 600 200\">\n",
       "<!-- END OF HEADER -->\n",
       "<rect style=\"opacity:1.0;fill:#FFFFFF;stroke:none\" width=\"600.0\" height=\"200.0\" x=\"0.0\" y=\"0.0\"> </rect>\n",
       "<ellipse cx=\"152.0\" cy=\"105.7\" rx=\"14.7\" ry=\"14.7\" class=\"atom-1\" style=\"fill:#E5E533;fill-rule:evenodd;stroke:#E5E533;stroke-width:1.0px;stroke-linecap:butt;stroke-linejoin:miter;stroke-opacity:1\"/>\n",
       "<ellipse cx=\"91.9\" cy=\"148.1\" rx=\"14.7\" ry=\"14.7\" class=\"atom-2\" style=\"fill:#9999E5;fill-rule:evenodd;stroke:#9999E5;stroke-width:1.0px;stroke-linecap:butt;stroke-linejoin:miter;stroke-opacity:1\"/>\n",
       "<ellipse cx=\"25.2\" cy=\"117.3\" rx=\"14.7\" ry=\"14.7\" class=\"atom-3\" style=\"fill:#E5E533;fill-rule:evenodd;stroke:#E5E533;stroke-width:1.0px;stroke-linecap:butt;stroke-linejoin:miter;stroke-opacity:1\"/>\n",
       "<path class=\"bond-0 atom-0 atom-1\" d=\"M 145.4,33.9 L 152.0,105.7\" style=\"fill:none;fill-rule:evenodd;stroke:#E5E5E5;stroke-width:3.9px;stroke-linecap:butt;stroke-linejoin:miter;stroke-opacity:1\"/>\n",
       "<path class=\"bond-0 atom-0 atom-1\" d=\"M 134.4,34.9 L 140.4,100.4\" style=\"fill:none;fill-rule:evenodd;stroke:#E5E5E5;stroke-width:3.9px;stroke-linecap:butt;stroke-linejoin:miter;stroke-opacity:1;stroke-dasharray:6,0,6\"/>\n",
       "<path class=\"bond-1 atom-1 atom-2\" d=\"M 152.0,105.7 L 91.9,148.1\" style=\"fill:none;fill-rule:evenodd;stroke:#000000;stroke-width:2.0px;stroke-linecap:butt;stroke-linejoin:miter;stroke-opacity:1\"/>\n",
       "<path class=\"bond-1 atom-1 atom-2\" d=\"M 140.4,100.4 L 90.8,135.4\" style=\"fill:none;fill-rule:evenodd;stroke:#000000;stroke-width:2.0px;stroke-linecap:butt;stroke-linejoin:miter;stroke-opacity:1;stroke-dasharray:6,0,6\"/>\n",
       "<path class=\"bond-2 atom-2 atom-3\" d=\"M 91.9,148.1 L 25.2,117.3\" style=\"fill:none;fill-rule:evenodd;stroke:#000000;stroke-width:2.0px;stroke-linecap:butt;stroke-linejoin:miter;stroke-opacity:1\"/>\n",
       "<path class=\"bond-2 atom-2 atom-3\" d=\"M 90.8,135.4 L 35.6,110.0\" style=\"fill:none;fill-rule:evenodd;stroke:#000000;stroke-width:2.0px;stroke-linecap:butt;stroke-linejoin:miter;stroke-opacity:1;stroke-dasharray:6,0,6\"/>\n",
       "<path class=\"bond-3 atom-3 atom-4\" d=\"M 25.2,117.3 L 18.7,45.5\" style=\"fill:none;fill-rule:evenodd;stroke:#E5E5E5;stroke-width:3.9px;stroke-linecap:butt;stroke-linejoin:miter;stroke-opacity:1\"/>\n",
       "<path class=\"bond-3 atom-3 atom-4\" d=\"M 35.6,110.0 L 29.6,44.5\" style=\"fill:none;fill-rule:evenodd;stroke:#E5E5E5;stroke-width:3.9px;stroke-linecap:butt;stroke-linejoin:miter;stroke-opacity:1;stroke-dasharray:6,0,6\"/>\n",
       "<path d=\"M 151.8,103.9 L 152.0,105.7 L 150.5,106.8\" style=\"fill:none;stroke:#E5E5E5;stroke-width:3.9px;stroke-linecap:butt;stroke-linejoin:miter;stroke-opacity:1;\"/>\n",
       "<path d=\"M 94.9,146.0 L 91.9,148.1 L 88.6,146.6\" style=\"fill:none;stroke:#000000;stroke-width:2.0px;stroke-linecap:butt;stroke-linejoin:miter;stroke-opacity:1;\"/>\n",
       "<path d=\"M 26.9,118.1 L 25.2,117.3 L 25.1,115.5\" style=\"fill:none;stroke:#000000;stroke-width:2.0px;stroke-linecap:butt;stroke-linejoin:miter;stroke-opacity:1;\"/>\n",
       "<path class=\"atom-0\" d=\"M 135.9 30.7 L 138.9 27.6 L 134.9 26.8 L 135.5 24.7 L 139.2 26.6 L 138.7 22.5 L 140.9 22.5 L 140.3 26.6 L 144.1 24.8 L 144.7 26.8 L 140.6 27.6 L 143.5 30.7 L 141.7 32.0 L 139.7 28.1 L 137.6 32.0 L 135.9 30.7 \" fill=\"#191919\"/>\n",
       "<path class=\"atom-4\" d=\"M 20.1 41.3 L 23.1 38.2 L 19.1 37.4 L 19.7 35.3 L 23.4 37.2 L 22.9 33.1 L 25.1 33.1 L 24.5 37.2 L 28.3 35.4 L 28.9 37.4 L 24.8 38.2 L 27.8 41.3 L 26.0 42.6 L 23.9 38.7 L 21.9 42.6 L 20.1 41.3 \" fill=\"#191919\"/>\n",
       "<ellipse cx=\"305.8\" cy=\"161.5\" rx=\"14.7\" ry=\"14.7\" class=\"atom-1\" style=\"fill:#E5E533;fill-rule:evenodd;stroke:#E5E533;stroke-width:1.0px;stroke-linecap:butt;stroke-linejoin:miter;stroke-opacity:1\"/>\n",
       "<ellipse cx=\"239.1\" cy=\"130.7\" rx=\"14.7\" ry=\"14.7\" class=\"atom-2\" style=\"fill:#9999E5;fill-rule:evenodd;stroke:#9999E5;stroke-width:1.0px;stroke-linecap:butt;stroke-linejoin:miter;stroke-opacity:1\"/>\n",
       "<ellipse cx=\"232.4\" cy=\"57.6\" rx=\"14.7\" ry=\"14.7\" class=\"atom-3\" style=\"fill:#E5E533;fill-rule:evenodd;stroke:#E5E533;stroke-width:1.0px;stroke-linecap:butt;stroke-linejoin:miter;stroke-opacity:1\"/>\n",
       "<path class=\"bond-0 atom-0 atom-1\" d=\"M 363.9,120.5 L 305.8,161.5\" style=\"fill:none;fill-rule:evenodd;stroke:#E5E5E5;stroke-width:3.9px;stroke-linecap:butt;stroke-linejoin:miter;stroke-opacity:1\"/>\n",
       "<path class=\"bond-0 atom-0 atom-1\" d=\"M 357.6,111.5 L 304.7,148.8\" style=\"fill:none;fill-rule:evenodd;stroke:#E5E5E5;stroke-width:3.9px;stroke-linecap:butt;stroke-linejoin:miter;stroke-opacity:1;stroke-dasharray:6,0,6\"/>\n",
       "<path class=\"bond-1 atom-1 atom-2\" d=\"M 305.8,161.5 L 239.1,130.7\" style=\"fill:none;fill-rule:evenodd;stroke:#000000;stroke-width:2.0px;stroke-linecap:butt;stroke-linejoin:miter;stroke-opacity:1\"/>\n",
       "<path class=\"bond-1 atom-1 atom-2\" d=\"M 304.7,148.8 L 249.5,123.4\" style=\"fill:none;fill-rule:evenodd;stroke:#000000;stroke-width:2.0px;stroke-linecap:butt;stroke-linejoin:miter;stroke-opacity:1;stroke-dasharray:6,0,6\"/>\n",
       "<path class=\"bond-2 atom-2 atom-3\" d=\"M 239.1,130.7 L 232.4,57.6\" style=\"fill:none;fill-rule:evenodd;stroke:#000000;stroke-width:2.0px;stroke-linecap:butt;stroke-linejoin:miter;stroke-opacity:1\"/>\n",
       "<path class=\"bond-2 atom-2 atom-3\" d=\"M 249.5,123.4 L 244.0,62.9\" style=\"fill:none;fill-rule:evenodd;stroke:#000000;stroke-width:2.0px;stroke-linecap:butt;stroke-linejoin:miter;stroke-opacity:1;stroke-dasharray:6,0,6\"/>\n",
       "<path class=\"bond-3 atom-3 atom-4\" d=\"M 232.4,57.6 L 290.5,16.5\" style=\"fill:none;fill-rule:evenodd;stroke:#E5E5E5;stroke-width:3.9px;stroke-linecap:butt;stroke-linejoin:miter;stroke-opacity:1\"/>\n",
       "<path class=\"bond-3 atom-3 atom-4\" d=\"M 244.0,62.9 L 296.9,25.5\" style=\"fill:none;fill-rule:evenodd;stroke:#E5E5E5;stroke-width:3.9px;stroke-linecap:butt;stroke-linejoin:miter;stroke-opacity:1;stroke-dasharray:6,0,6\"/>\n",
       "<path d=\"M 307.3,160.5 L 305.8,161.5 L 304.2,160.7\" style=\"fill:none;stroke:#E5E5E5;stroke-width:3.9px;stroke-linecap:butt;stroke-linejoin:miter;stroke-opacity:1;\"/>\n",
       "<path d=\"M 242.4,132.3 L 239.1,130.7 L 238.8,127.1\" style=\"fill:none;stroke:#000000;stroke-width:2.0px;stroke-linecap:butt;stroke-linejoin:miter;stroke-opacity:1;\"/>\n",
       "<path d=\"M 232.6,59.4 L 232.4,57.6 L 233.9,56.5\" style=\"fill:none;stroke:#000000;stroke-width:2.0px;stroke-linecap:butt;stroke-linejoin:miter;stroke-opacity:1;\"/>\n",
       "<path class=\"atom-0\" d=\"M 358.7 112.3 L 361.8 109.2 L 357.7 108.4 L 358.4 106.3 L 362.1 108.2 L 361.6 104.1 L 363.8 104.1 L 363.2 108.1 L 366.9 106.4 L 367.6 108.4 L 363.5 109.1 L 366.4 112.3 L 364.6 113.6 L 362.6 109.7 L 360.5 113.6 L 358.7 112.3 \" fill=\"#191919\"/>\n",
       "<path class=\"atom-4\" d=\"M 291.7 17.3 L 294.7 14.2 L 290.7 13.4 L 291.3 11.3 L 295.0 13.2 L 294.5 9.1 L 296.7 9.1 L 296.1 13.2 L 299.9 11.4 L 300.5 13.4 L 296.4 14.2 L 299.4 17.3 L 297.6 18.6 L 295.5 14.7 L 293.5 18.6 L 291.7 17.3 \" fill=\"#191919\"/>\n",
       "<ellipse cx=\"442.0\" cy=\"143.1\" rx=\"14.7\" ry=\"14.7\" class=\"atom-1\" style=\"fill:#E5E533;fill-rule:evenodd;stroke:#E5E533;stroke-width:1.0px;stroke-linecap:butt;stroke-linejoin:miter;stroke-opacity:1\"/>\n",
       "<ellipse cx=\"435.3\" cy=\"69.9\" rx=\"14.7\" ry=\"14.7\" class=\"atom-2\" style=\"fill:#9999E5;fill-rule:evenodd;stroke:#9999E5;stroke-width:1.0px;stroke-linecap:butt;stroke-linejoin:miter;stroke-opacity:1\"/>\n",
       "<ellipse cx=\"495.3\" cy=\"27.5\" rx=\"14.7\" ry=\"14.7\" class=\"atom-3\" style=\"fill:#E5E533;fill-rule:evenodd;stroke:#E5E533;stroke-width:1.0px;stroke-linecap:butt;stroke-linejoin:miter;stroke-opacity:1\"/>\n",
       "<path class=\"bond-0 atom-0 atom-1\" d=\"M 501.4,170.5 L 442.0,143.1\" style=\"fill:none;fill-rule:evenodd;stroke:#E5E5E5;stroke-width:3.9px;stroke-linecap:butt;stroke-linejoin:miter;stroke-opacity:1\"/>\n",
       "<path class=\"bond-0 atom-0 atom-1\" d=\"M 506.0,160.5 L 452.4,135.7\" style=\"fill:none;fill-rule:evenodd;stroke:#E5E5E5;stroke-width:3.9px;stroke-linecap:butt;stroke-linejoin:miter;stroke-opacity:1;stroke-dasharray:6,0,6\"/>\n",
       "<path class=\"bond-1 atom-1 atom-2\" d=\"M 442.0,143.1 L 435.3,69.9\" style=\"fill:none;fill-rule:evenodd;stroke:#000000;stroke-width:2.0px;stroke-linecap:butt;stroke-linejoin:miter;stroke-opacity:1\"/>\n",
       "<path class=\"bond-1 atom-1 atom-2\" d=\"M 452.4,135.7 L 446.9,75.2\" style=\"fill:none;fill-rule:evenodd;stroke:#000000;stroke-width:2.0px;stroke-linecap:butt;stroke-linejoin:miter;stroke-opacity:1;stroke-dasharray:6,0,6\"/>\n",
       "<path class=\"bond-2 atom-2 atom-3\" d=\"M 435.3,69.9 L 495.3,27.5\" style=\"fill:none;fill-rule:evenodd;stroke:#000000;stroke-width:2.0px;stroke-linecap:butt;stroke-linejoin:miter;stroke-opacity:1\"/>\n",
       "<path class=\"bond-2 atom-2 atom-3\" d=\"M 446.9,75.2 L 496.5,40.2\" style=\"fill:none;fill-rule:evenodd;stroke:#000000;stroke-width:2.0px;stroke-linecap:butt;stroke-linejoin:miter;stroke-opacity:1;stroke-dasharray:6,0,6\"/>\n",
       "<path class=\"bond-3 atom-3 atom-4\" d=\"M 495.3,27.5 L 554.7,54.9\" style=\"fill:none;fill-rule:evenodd;stroke:#E5E5E5;stroke-width:3.9px;stroke-linecap:butt;stroke-linejoin:miter;stroke-opacity:1\"/>\n",
       "<path class=\"bond-3 atom-3 atom-4\" d=\"M 496.5,40.2 L 550.1,64.9\" style=\"fill:none;fill-rule:evenodd;stroke:#E5E5E5;stroke-width:3.9px;stroke-linecap:butt;stroke-linejoin:miter;stroke-opacity:1;stroke-dasharray:6,0,6\"/>\n",
       "<path d=\"M 443.5,143.8 L 442.0,143.1 L 441.8,141.3\" style=\"fill:none;stroke:#E5E5E5;stroke-width:3.9px;stroke-linecap:butt;stroke-linejoin:miter;stroke-opacity:1;\"/>\n",
       "<path d=\"M 435.7,73.6 L 435.3,69.9 L 438.3,67.8\" style=\"fill:none;stroke:#000000;stroke-width:2.0px;stroke-linecap:butt;stroke-linejoin:miter;stroke-opacity:1;\"/>\n",
       "<path d=\"M 493.8,28.6 L 495.3,27.5 L 496.8,28.2\" style=\"fill:none;stroke:#000000;stroke-width:2.0px;stroke-linecap:butt;stroke-linejoin:miter;stroke-opacity:1;\"/>\n",
       "<path class=\"atom-0\" d=\"M 507.1 166.5 L 510.2 163.4 L 506.1 162.6 L 506.7 160.5 L 510.5 162.4 L 509.9 158.3 L 512.1 158.3 L 511.5 162.4 L 515.3 160.6 L 516.0 162.6 L 511.8 163.4 L 514.8 166.5 L 513.0 167.8 L 511.0 163.9 L 508.9 167.8 L 507.1 166.5 \" fill=\"#191919\"/>\n",
       "<path class=\"atom-4\" d=\"M 555.8 61.0 L 558.9 57.9 L 554.8 57.1 L 555.4 55.0 L 559.2 56.9 L 558.7 52.8 L 560.9 52.7 L 560.2 56.8 L 564.0 55.1 L 564.7 57.1 L 560.6 57.8 L 563.5 61.0 L 561.7 62.3 L 559.7 58.4 L 557.6 62.3 L 555.8 61.0 \" fill=\"#191919\"/>\n",
       "</svg>"
      ],
      "text/plain": [
       "<IPython.core.display.SVG object>"
      ]
     },
     "execution_count": 13,
     "metadata": {},
     "output_type": "execute_result"
    }
   ],
   "source": [
    "# Environments of second molecule \n",
    "Draw.DrawMorganBits([(df.loc[df.index[mol2_ix], 'ROMol'], bit_oi, bi_list[mol2_ix], i) for i in range(len(bi_list[mol2_ix][bit_oi]))],\n",
    "                    subImgSize=(200, 200))"
   ]
  },
  {
   "cell_type": "markdown",
   "id": "24843884-5638-4137-9b5a-f9116e205703",
   "metadata": {},
   "source": [
    "---\n",
    "## Training an example model"
   ]
  },
  {
   "cell_type": "code",
   "execution_count": 14,
   "id": "8039d35a-82d1-4937-8115-5aec163627e2",
   "metadata": {},
   "outputs": [],
   "source": [
    "random_state = 42"
   ]
  },
  {
   "cell_type": "code",
   "execution_count": 15,
   "id": "6c0a9a95-54da-4411-a076-df1ea1b4ffd4",
   "metadata": {},
   "outputs": [],
   "source": [
    "# Prepare data\n",
    "x_all = fps\n",
    "y_all = binarize(df.pIC50.values.reshape(-1, 1), threshold=6.0)\n",
    "x_train, x_test, y_train, y_test = train_test_split(x_all, y_all, test_size=0.2, \n",
    "                                                    random_state=random_state, stratify=y_all)"
   ]
  },
  {
   "cell_type": "code",
   "execution_count": 16,
   "id": "81090580-1367-4199-9b7d-f7e1fc1b6cd3",
   "metadata": {},
   "outputs": [
    {
     "name": "stdout",
     "output_type": "stream",
     "text": [
      "Kappa: 0.50\n"
     ]
    }
   ],
   "source": [
    "model = RandomForestClassifier(random_state=random_state, n_jobs=4)\n",
    "model.fit(x_train, y_train.ravel())\n",
    "print(f'Kappa: {cohen_kappa_score(model.predict(x_test), y_test):.2f}')"
   ]
  },
  {
   "cell_type": "code",
   "execution_count": 17,
   "id": "414b76f3-60eb-49a1-a3fc-c4f6d37aaa9a",
   "metadata": {},
   "outputs": [
    {
     "data": {
      "text/html": [
       "<div>\n",
       "<style scoped>\n",
       "    .dataframe tbody tr th:only-of-type {\n",
       "        vertical-align: middle;\n",
       "    }\n",
       "\n",
       "    .dataframe tbody tr th {\n",
       "        vertical-align: top;\n",
       "    }\n",
       "\n",
       "    .dataframe thead th {\n",
       "        text-align: right;\n",
       "    }\n",
       "</style>\n",
       "<table border=\"1\" class=\"dataframe\">\n",
       "  <thead>\n",
       "    <tr style=\"text-align: right;\">\n",
       "      <th></th>\n",
       "      <th>importance</th>\n",
       "    </tr>\n",
       "    <tr>\n",
       "      <th>bits</th>\n",
       "      <th></th>\n",
       "    </tr>\n",
       "  </thead>\n",
       "  <tbody>\n",
       "    <tr>\n",
       "      <th>1928</th>\n",
       "      <td>0.003878</td>\n",
       "    </tr>\n",
       "    <tr>\n",
       "      <th>2855</th>\n",
       "      <td>0.003815</td>\n",
       "    </tr>\n",
       "    <tr>\n",
       "      <th>3839</th>\n",
       "      <td>0.003811</td>\n",
       "    </tr>\n",
       "    <tr>\n",
       "      <th>3247</th>\n",
       "      <td>0.003764</td>\n",
       "    </tr>\n",
       "    <tr>\n",
       "      <th>2698</th>\n",
       "      <td>0.003575</td>\n",
       "    </tr>\n",
       "  </tbody>\n",
       "</table>\n",
       "</div>"
      ],
      "text/plain": [
       "      importance\n",
       "bits            \n",
       "1928    0.003878\n",
       "2855    0.003815\n",
       "3839    0.003811\n",
       "3247    0.003764\n",
       "2698    0.003575"
      ]
     },
     "execution_count": 17,
     "metadata": {},
     "output_type": "execute_result"
    }
   ],
   "source": [
    "feat_imp = pd.DataFrame(dict(bits=range(n_bits), importance=model.feature_importances_)).sort_values(by='importance', ascending=False).set_index('bits')\n",
    "feat_imp.head(5)"
   ]
  },
  {
   "cell_type": "markdown",
   "id": "56000d4f-5efc-4d1c-ae6b-30ef04cc5e18",
   "metadata": {},
   "source": [
    "---\n",
    "## Gather information for all bits set over the whole dataset"
   ]
  },
  {
   "cell_type": "code",
   "execution_count": 18,
   "id": "21b93a87-eb9a-435a-9c80-02da03a42f24",
   "metadata": {
    "tags": []
   },
   "outputs": [
    {
     "name": "stdout",
     "output_type": "stream",
     "text": [
      "4081 / 4096 bits are set for at least one molecule\n"
     ]
    }
   ],
   "source": [
    "subs_per_onbits = defaultdict(list)\n",
    "for i, (_, row) in enumerate(df.iterrows()):\n",
    "    mol = row.ROMol\n",
    "    bi = bi_list[i]\n",
    "    for bit in bi:\n",
    "        for aix, r in bi[bit]:\n",
    "            subs_per_onbits[bit].append((mol, aix, r))\n",
    "print(f'{len(subs_per_onbits.keys())} / {n_bits} bits are set for at least one molecule')"
   ]
  },
  {
   "cell_type": "markdown",
   "id": "cb90f1e3-fc8e-40e6-92da-9a3d21ae3770",
   "metadata": {},
   "source": [
    "## Filtering duplicates per bit and extract fragment SMARTS"
   ]
  },
  {
   "cell_type": "code",
   "execution_count": 19,
   "id": "5456e036-cd15-4f2a-a51b-3fda0a53c84f",
   "metadata": {},
   "outputs": [],
   "source": [
    "spo_filtered = defaultdict(list)\n",
    "frags = defaultdict(list)\n",
    "\n",
    "for bit in subs_per_onbits:\n",
    "    seen = []\n",
    "    for mol, aix, r in subs_per_onbits[bit]:\n",
    "        env = Chem.FindAtomEnvironmentOfRadiusN(mol, r, aix, useHs=True)\n",
    "        atoms = {aix}\n",
    "        for bidx in env:\n",
    "            atoms.add(mol.GetBondWithIdx(bidx).GetBeginAtomIdx())\n",
    "            atoms.add(mol.GetBondWithIdx(bidx).GetEndAtomIdx())\n",
    "        smi = Chem.MolFragmentToSmiles(mol, atomsToUse=list(atoms), bondsToUse=env, rootedAtAtom=aix)\n",
    "        if smi not in seen:\n",
    "            spo_filtered[bit].append((mol, aix, r))\n",
    "            seen.append(smi)\n",
    "    frags[bit] = seen\n",
    "spo_filtered = dict(spo_filtered)"
   ]
  },
  {
   "cell_type": "code",
   "execution_count": 20,
   "id": "0c820521-46f6-47f8-adf3-2479116aad11",
   "metadata": {},
   "outputs": [
    {
     "data": {
      "image/png": "[encoded data removed]",
      "text/plain": [
       "<Figure size 240x480 with 1 Axes>"
      ]
     },
     "metadata": {},
     "output_type": "display_data"
    }
   ],
   "source": [
    "plt.figure(figsize=(2, 4), dpi=120)\n",
    "fig = sns.boxplot([len(frags[bit]) for bit in frags])\n",
    "fig.set_ylabel('Substructures per bit')\n",
    "_ = fig.set_xlabel(f'{\"F\" if use_features else \"E\"}CFP{radius * 2} {n_bits} bits')"
   ]
  },
  {
   "cell_type": "markdown",
   "id": "c3566748-904e-44de-bab6-92425dbd58f7",
   "metadata": {},
   "source": [
    "## Interactive Part"
   ]
  },
  {
   "cell_type": "code",
   "execution_count": 21,
   "id": "e1bc27ee-4cef-4c77-bec2-ad0dd14988c5",
   "metadata": {},
   "outputs": [],
   "source": [
    "# Settings\n",
    "sort_by_importance = True\n",
    "drop_down = True  # If False, bit number can be entered manually"
   ]
  },
  {
   "cell_type": "code",
   "execution_count": 22,
   "id": "03e19421-3b72-4263-90ad-bfef71406909",
   "metadata": {},
   "outputs": [],
   "source": [
    "if sort_by_importance:\n",
    "    choices = [bit for bit in feat_imp.index if bit in spo_filtered]\n",
    "else:\n",
    "    choices = sorted(spo_filtered.keys())"
   ]
  },
  {
   "cell_type": "code",
   "execution_count": 23,
   "id": "8576018a-e1e9-408a-89d5-309ca0e619d9",
   "metadata": {},
   "outputs": [
    {
     "data": {
      "application/vnd.jupyter.widget-view+json": {
       "model_id": "dda9091b53054cd7bd94b0a34e38d4ba",
       "version_major": 2,
       "version_minor": 0
      },
      "text/plain": [
       "interactive(children=(Dropdown(description='bit', options=(1928, 2855, 3839, 3247, 2698, 1535, 1088, 1917, 875…"
      ]
     },
     "metadata": {},
     "output_type": "display_data"
    }
   ],
   "source": [
    "def renderBitEnvs(bit):\n",
    "    if bit in spo_filtered:\n",
    "        return SVG(Draw.DrawMorganEnvs(spo_filtered[bit], legends=frags[bit], subImgSize=(300, 200), molsPerRow=4))\n",
    "    return 'Bit not set!'\n",
    "\n",
    "inp = choices if drop_down else BoundedIntText(value=choices[0],\n",
    "                                               min=min(choices),\n",
    "                                               max=max(choices))\n",
    "_ = interact(renderBitEnvs, bit=inp)"
   ]
  },
  {
   "cell_type": "markdown",
   "id": "fbf5d1a8-f92e-4bff-9995-62d31182d57c",
   "metadata": {},
   "source": [
    "**Some notes about the rendering here[3]:**\n",
    "- The molecule fragment is drawn with the atoms in the same positions as in the original molecule.\n",
    "- The central atom is highlighted in blue.\n",
    "- Aromatic atoms are highlighted in yellow\n",
    "- Aliphatic ring atoms (none present here) are highlighted in dark gray\n",
    "- Atoms/bonds that are drawn in light gray indicate pieces of the structure that influence the atoms' connectivity invariants but that are not directly part of the fingerprint."
   ]
  },
  {
   "cell_type": "markdown",
   "id": "b6052875-92d2-41a3-acc9-4b74b16f53fc",
   "metadata": {},
   "source": [
    "## References\n",
    "[1] https://github.com/czodrowskilab/5minfame<br>\n",
    "[2] https://www.rdkit.org/docs/GettingStartedInPython.html#explaining-bits-from-morgan-fingerprints<br>\n",
    "[3] https://rdkit.blogspot.com/2018/10/using-new-fingerprint-bit-rendering-code.html"
   ]
  },
  {
   "cell_type": "markdown",
   "id": "78db9faf-5cbb-4635-9779-6880f8663626",
   "metadata": {},
   "source": [
    "## Useful resources\n",
    "- https://iwatobipen.wordpress.com/2018/11/07/visualize-important-features-of-machine-leaning-rdkit/\n",
    "- https://github.com/rdkit/rdkit/discussions/4688\n",
    "- https://sourceforge.net/p/rdkit/mailman/message/36438523/"
   ]
  },
  {
   "cell_type": "code",
   "execution_count": null,
   "id": "9af0bb61-5c65-4076-a186-3a0c6dfd1216",
   "metadata": {},
   "outputs": [],
   "source": []
  }
 ],
 "metadata": {
  "kernelspec": {
   "display_name": "Python 3 (ipykernel)",
   "language": "python",
   "name": "python3"
  },
  "language_info": {
   "codemirror_mode": {
    "name": "ipython",
    "version": 3
   },
   "file_extension": ".py",
   "mimetype": "text/x-python",
   "name": "python",
   "nbconvert_exporter": "python",
   "pygments_lexer": "ipython3",
   "version": "3.10.6"
  }
 },
 "nbformat": 4,
 "nbformat_minor": 5
}
